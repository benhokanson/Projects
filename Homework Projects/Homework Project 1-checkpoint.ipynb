{
 "cells": [
  {
   "cell_type": "markdown",
   "metadata": {},
   "source": [
    "# Dictionaries\n",
    "    \n",
    "    "
   ]
  },
  {
   "cell_type": "code",
   "execution_count": null,
   "metadata": {},
   "outputs": [],
   "source": []
  },
  {
   "cell_type": "code",
   "execution_count": 2,
   "metadata": {},
   "outputs": [],
   "source": [
    "dct = {\"Ben\": {\"Major\": \"Math and Statistics\", \"Why are you taking this course?\": \"I like ECON and it satisfies some STATS credits\", \"Plans\": \"Look for a job that involves numbers.\"}\n",
    "      }"
   ]
  },
  {
   "cell_type": "code",
   "execution_count": 4,
   "metadata": {},
   "outputs": [
    {
     "name": "stdout",
     "output_type": "stream",
     "text": [
      "{'Ben': {'Major': 'Math and Statistics', 'Why are you taking this course?': 'I like ECON and it satisfies some STATS credits', 'Plans': 'Look for a job that involves numbers.'}}\n"
     ]
    }
   ],
   "source": [
    "print(dct)"
   ]
  },
  {
   "cell_type": "code",
   "execution_count": 5,
   "metadata": {},
   "outputs": [
    {
     "data": {
      "text/html": [
       "<div>\n",
       "<style scoped>\n",
       "    .dataframe tbody tr th:only-of-type {\n",
       "        vertical-align: middle;\n",
       "    }\n",
       "\n",
       "    .dataframe tbody tr th {\n",
       "        vertical-align: top;\n",
       "    }\n",
       "\n",
       "    .dataframe thead th {\n",
       "        text-align: right;\n",
       "    }\n",
       "</style>\n",
       "<table border=\"1\" class=\"dataframe\">\n",
       "  <thead>\n",
       "    <tr style=\"text-align: right;\">\n",
       "      <th></th>\n",
       "      <th>Ben</th>\n",
       "    </tr>\n",
       "  </thead>\n",
       "  <tbody>\n",
       "    <tr>\n",
       "      <th>Major</th>\n",
       "      <td>Math and Statistics</td>\n",
       "    </tr>\n",
       "    <tr>\n",
       "      <th>Plans</th>\n",
       "      <td>Look for a job that involves numbers.</td>\n",
       "    </tr>\n",
       "    <tr>\n",
       "      <th>Why are you taking this course?</th>\n",
       "      <td>I like ECON and it satisfies some STATS credits</td>\n",
       "    </tr>\n",
       "  </tbody>\n",
       "</table>\n",
       "</div>"
      ],
      "text/plain": [
       "                                                                             Ben\n",
       "Major                                                        Math and Statistics\n",
       "Plans                                      Look for a job that involves numbers.\n",
       "Why are you taking this course?  I like ECON and it satisfies some STATS credits"
      ]
     },
     "execution_count": 5,
     "metadata": {},
     "output_type": "execute_result"
    }
   ],
   "source": [
    "import pandas as pd\n",
    "df = pd.DataFrame(dct)\n",
    "df"
   ]
  },
  {
   "cell_type": "code",
   "execution_count": 6,
   "metadata": {},
   "outputs": [],
   "source": [
    "dct2 = {\"Ronald Haugen\": {}, \"Robert Hearne\": {}, \"Jeremy Jackson\": {}, \"Prithviraj Lakkakula\": {}, \"Siew Lim\": {}, \"Zachary Machunda\": {}, \"Raymond March\": {}, \"Dragan Miljkovic\": {}, \"Frayne Olson\": {}, \"Bryon Parman\": {}}"
   ]
  },
  {
   "cell_type": "code",
   "execution_count": 7,
   "metadata": {},
   "outputs": [
    {
     "name": "stdout",
     "output_type": "stream",
     "text": [
      "{'Ronald Haugen': {}, 'Robert Hearne': {}, 'Jeremy Jackson': {}, 'Prithviraj Lakkakula': {}, 'Siew Lim': {}, 'Zachary Machunda': {}, 'Raymond March': {}, 'Dragan Miljkovic': {}, 'Frayne Olson': {}, 'Bryon Parman': {}}\n"
     ]
    }
   ],
   "source": [
    "print(dct2)"
   ]
  },
  {
   "cell_type": "code",
   "execution_count": 8,
   "metadata": {},
   "outputs": [],
   "source": [
    "dct2[\"Ronald Haugen\"][\"Expertise\"] = \"Farm Management\"\n",
    "dct2[\"Ronald Haugen\"][\"Biography\"] = \"He is a farm management specialist at NDSU. He has worked here since 1991.\"\n",
    "dct2[\"Ronald Haugen\"][\"E-mail\"] = \"ronald.haugen@ndsu.edu\""
   ]
  },
  {
   "cell_type": "code",
   "execution_count": 9,
   "metadata": {},
   "outputs": [
    {
     "name": "stdout",
     "output_type": "stream",
     "text": [
      "{'Ronald Haugen': {'Expertise': 'Farm Management', 'Biography': 'He is a farm management specialist at NDSU. He has worked here since 1991.', 'E-mail': 'ronald.haugen@ndsu.edu'}, 'Robert Hearne': {}, 'Jeremy Jackson': {}, 'Prithviraj Lakkakula': {}, 'Siew Lim': {}, 'Zachary Machunda': {}, 'Raymond March': {}, 'Dragan Miljkovic': {}, 'Frayne Olson': {}, 'Bryon Parman': {}}\n"
     ]
    }
   ],
   "source": [
    "print(dct2)"
   ]
  },
  {
   "cell_type": "code",
   "execution_count": 10,
   "metadata": {},
   "outputs": [],
   "source": [
    "dct2[\"Robert Hearne\"][\"Expertise\"] = \"Agribusiness and Applied Economics\"\n",
    "dct2[\"Robert Hearne\"][\"Biography\"] = \"He has been a professor at NDSU since 2002.\"\n",
    "dct2[\"Robert Hearne\"][\"E-mail\"] = \"robert.hearne@ndsu.edu\"\n",
    "dct2[\"Jeremy Jackson\"][\"Expertise\"] = \"Agribusiness and Applied Economics\"\n",
    "dct2[\"Jeremy Jackson\"][\"Biography\"] = \"He is an Econ professor at NDSU. His teachings focus mainly on microeconomics, public economics, and game theory.\"\n",
    "dct2[\"Jeremy Jackson\"][\"E-mail\"] = \"jeremy.jackson@ndsu.edu\"\n",
    "dct2[\"Prithviraj Lakkakula\"][\"Expertise\"] = \"Food and Resource Economics\"\n",
    "dct2[\"Prithviraj Lakkakula\"][\"Biography\"] = \"He is an Econ professor at NDSU. He teaches Microeconomics and Quantitative Methods in Agribusiness.\"\n",
    "dct2[\"Prithviraj Lakkakula\"][\"E-mail\"] = \"prithviraj.lakkakula@ndsu.edu\"\n",
    "dct2[\"Siew Lim\"][\"Expertise\"] = \"Economics\"\n",
    "dct2[\"Siew Lim\"][\"Biography\"] = \"She is an associate Econ professor at NDSU. She teaches many undergrad classes along with AGEC 771.\"\n",
    "dct2[\"Siew Lim\"][\"E-mail\"] = \"siew.lim@ndsu.edu\""
   ]
  },
  {
   "cell_type": "code",
   "execution_count": 11,
   "metadata": {},
   "outputs": [
    {
     "name": "stdout",
     "output_type": "stream",
     "text": [
      "{'Ronald Haugen': {'Expertise': 'Farm Management', 'Biography': 'He is a farm management specialist at NDSU. He has worked here since 1991.', 'E-mail': 'ronald.haugen@ndsu.edu'}, 'Robert Hearne': {'Expertise': 'Agribusiness and Applied Economics', 'Biography': 'He has been a professor at NDSU since 2002.', 'E-mail': 'robert.hearne@ndsu.edu'}, 'Jeremy Jackson': {'Expertise': 'Agribusiness and Applied Economics', 'Biography': 'He is an Econ professor at NDSU. His teachings focus mainly on microeconomics, public economics, and game theory.', 'E-mail': 'jeremy.jackson@ndsu.edu'}, 'Prithviraj Lakkakula': {'Expertise': 'Food and Resource Economics', 'Biography': 'He is an Econ professor at NDSU. He teaches Microeconomics and Quantitative Methods in Agribusiness.', 'E-mail': 'prithviraj.lakkakula@ndsu.edu'}, 'Siew Lim': {'Expertise': 'Economics', 'Biography': 'She is an associate Econ professor at NDSU. She teaches many undergrad classes along with AGEC 771.', 'E-mail': 'siew.lim@ndsu.edu'}, 'Zachary Machunda': {}, 'Raymond March': {}, 'Dragan Miljkovic': {}, 'Frayne Olson': {}, 'Bryon Parman': {}}\n"
     ]
    }
   ],
   "source": [
    "print(dct2)"
   ]
  },
  {
   "cell_type": "code",
   "execution_count": 12,
   "metadata": {},
   "outputs": [],
   "source": [
    "dct2[\"Zachary Machunda\"][\"Expertise\"] = \"Economic Geography\"\n",
    "dct2[\"Zachary Machunda\"][\"Biography\"] = \"He is an Econ professor at NDSU. He has been here since 2015.\"\n",
    "dct2[\"Zachary Machunda\"][\"E-mail\"] = \"zachary.machunda@ndsu.edu\"\n",
    "dct2[\"Raymond March\"][\"Expertise\"] = \"Agricultural and Applied Economics\"\n",
    "dct2[\"Raymond March\"][\"Biography\"] = \"He is an assistant Econ professor at NDSU. He is also part of the NDSU Center for the Study of PCPE.\"\n",
    "dct2[\"Raymond March\"][\"E-mail\"] = \"Raymond.J.March@ndsu.edu\"\n",
    "dct2[\"Dragan Miljkovic\"][\"Expertise\"] = \"Agricultural Economics\"\n",
    "dct2[\"Dragan Miljkovic\"][\"Biography\"] = \"He is an agricultural economics professor at NDSU.\"\n",
    "dct2[\"Dragan Miljkovic\"][\"E-mail\"] = \"dragan.miljkovic@ndsu.edu\"\n",
    "dct2[\"Frayne Olson\"][\"Expertise\"] = \"Agricultural Economics\"\n",
    "dct2[\"Frayne Olson\"][\"Biography\"] = \"He teaches business management classes at NDSU.\"\n",
    "dct2[\"Frayne Olson\"][\"E-mail\"] = \"Frayne.Olson@ndsu.edu\"\n",
    "dct2[\"Bryon Parman\"][\"Expertise\"] = \"Agricultural Finance\"\n",
    "dct2[\"Bryon Parman\"][\"Biography\"] = \"He is an assistant professor at NDSU. His office is Barry Hall 614F.\"\n",
    "dct2[\"Bryon Parman\"][\"E-mail\"] = \"bryon.parman@ndsu.edu\""
   ]
  },
  {
   "cell_type": "code",
   "execution_count": 13,
   "metadata": {},
   "outputs": [
    {
     "name": "stdout",
     "output_type": "stream",
     "text": [
      "{'Ronald Haugen': {'Expertise': 'Farm Management', 'Biography': 'He is a farm management specialist at NDSU. He has worked here since 1991.', 'E-mail': 'ronald.haugen@ndsu.edu'}, 'Robert Hearne': {'Expertise': 'Agribusiness and Applied Economics', 'Biography': 'He has been a professor at NDSU since 2002.', 'E-mail': 'robert.hearne@ndsu.edu'}, 'Jeremy Jackson': {'Expertise': 'Agribusiness and Applied Economics', 'Biography': 'He is an Econ professor at NDSU. His teachings focus mainly on microeconomics, public economics, and game theory.', 'E-mail': 'jeremy.jackson@ndsu.edu'}, 'Prithviraj Lakkakula': {'Expertise': 'Food and Resource Economics', 'Biography': 'He is an Econ professor at NDSU. He teaches Microeconomics and Quantitative Methods in Agribusiness.', 'E-mail': 'prithviraj.lakkakula@ndsu.edu'}, 'Siew Lim': {'Expertise': 'Economics', 'Biography': 'She is an associate Econ professor at NDSU. She teaches many undergrad classes along with AGEC 771.', 'E-mail': 'siew.lim@ndsu.edu'}, 'Zachary Machunda': {'Expertise': 'Economic Geography', 'Biography': 'He is an Econ professor at NDSU. He has been here since 2015.', 'E-mail': 'zachary.machunda@ndsu.edu'}, 'Raymond March': {'Expertise': 'Agricultural and Applied Economics', 'Biography': 'He is an assistant Econ professor at NDSU. He is also part of the NDSU Center for the Study of PCPE.', 'E-mail': 'Raymond.J.March@ndsu.edu'}, 'Dragan Miljkovic': {'Expertise': 'Agricultural Economics', 'Biography': 'He is an agricultural economics professor at NDSU.', 'E-mail': 'dragan.miljkovic@ndsu.edu'}, 'Frayne Olson': {'Expertise': 'Agricultural Economics', 'Biography': 'He teaches business management classes at NDSU.', 'E-mail': 'Frayne.Olson@ndsu.edu'}, 'Bryon Parman': {'Expertise': 'Agricultural Finance', 'Biography': 'He is an assistant professor at NDSU. His office is Barry Hall 614F.', 'E-mail': 'bryon.parman@ndsu.edu'}}\n"
     ]
    }
   ],
   "source": [
    "print(dct2)"
   ]
  },
  {
   "cell_type": "code",
   "execution_count": 14,
   "metadata": {},
   "outputs": [
    {
     "data": {
      "text/html": [
       "<div>\n",
       "<style scoped>\n",
       "    .dataframe tbody tr th:only-of-type {\n",
       "        vertical-align: middle;\n",
       "    }\n",
       "\n",
       "    .dataframe tbody tr th {\n",
       "        vertical-align: top;\n",
       "    }\n",
       "\n",
       "    .dataframe thead th {\n",
       "        text-align: right;\n",
       "    }\n",
       "</style>\n",
       "<table border=\"1\" class=\"dataframe\">\n",
       "  <thead>\n",
       "    <tr style=\"text-align: right;\">\n",
       "      <th></th>\n",
       "      <th>Ronald Haugen</th>\n",
       "      <th>Robert Hearne</th>\n",
       "      <th>Jeremy Jackson</th>\n",
       "      <th>Prithviraj Lakkakula</th>\n",
       "      <th>Siew Lim</th>\n",
       "      <th>Zachary Machunda</th>\n",
       "      <th>Raymond March</th>\n",
       "      <th>Dragan Miljkovic</th>\n",
       "      <th>Frayne Olson</th>\n",
       "      <th>Bryon Parman</th>\n",
       "    </tr>\n",
       "  </thead>\n",
       "  <tbody>\n",
       "    <tr>\n",
       "      <th>Expertise</th>\n",
       "      <td>Farm Management</td>\n",
       "      <td>Agribusiness and Applied Economics</td>\n",
       "      <td>Agribusiness and Applied Economics</td>\n",
       "      <td>Food and Resource Economics</td>\n",
       "      <td>Economics</td>\n",
       "      <td>Economic Geography</td>\n",
       "      <td>Agricultural and Applied Economics</td>\n",
       "      <td>Agricultural Economics</td>\n",
       "      <td>Agricultural Economics</td>\n",
       "      <td>Agricultural Finance</td>\n",
       "    </tr>\n",
       "    <tr>\n",
       "      <th>Biography</th>\n",
       "      <td>He is a farm management specialist at NDSU. He...</td>\n",
       "      <td>He has been a professor at NDSU since 2002.</td>\n",
       "      <td>He is an Econ professor at NDSU. His teachings...</td>\n",
       "      <td>He is an Econ professor at NDSU. He teaches Mi...</td>\n",
       "      <td>She is an associate Econ professor at NDSU. Sh...</td>\n",
       "      <td>He is an Econ professor at NDSU. He has been h...</td>\n",
       "      <td>He is an assistant Econ professor at NDSU. He ...</td>\n",
       "      <td>He is an agricultural economics professor at N...</td>\n",
       "      <td>He teaches business management classes at NDSU.</td>\n",
       "      <td>He is an assistant professor at NDSU. His offi...</td>\n",
       "    </tr>\n",
       "    <tr>\n",
       "      <th>E-mail</th>\n",
       "      <td>ronald.haugen@ndsu.edu</td>\n",
       "      <td>robert.hearne@ndsu.edu</td>\n",
       "      <td>jeremy.jackson@ndsu.edu</td>\n",
       "      <td>prithviraj.lakkakula@ndsu.edu</td>\n",
       "      <td>siew.lim@ndsu.edu</td>\n",
       "      <td>zachary.machunda@ndsu.edu</td>\n",
       "      <td>Raymond.J.March@ndsu.edu</td>\n",
       "      <td>dragan.miljkovic@ndsu.edu</td>\n",
       "      <td>Frayne.Olson@ndsu.edu</td>\n",
       "      <td>bryon.parman@ndsu.edu</td>\n",
       "    </tr>\n",
       "  </tbody>\n",
       "</table>\n",
       "</div>"
      ],
      "text/plain": [
       "                                               Ronald Haugen  \\\n",
       "Expertise                                    Farm Management   \n",
       "Biography  He is a farm management specialist at NDSU. He...   \n",
       "E-mail                                ronald.haugen@ndsu.edu   \n",
       "\n",
       "                                         Robert Hearne  \\\n",
       "Expertise           Agribusiness and Applied Economics   \n",
       "Biography  He has been a professor at NDSU since 2002.   \n",
       "E-mail                          robert.hearne@ndsu.edu   \n",
       "\n",
       "                                              Jeremy Jackson  \\\n",
       "Expertise                 Agribusiness and Applied Economics   \n",
       "Biography  He is an Econ professor at NDSU. His teachings...   \n",
       "E-mail                               jeremy.jackson@ndsu.edu   \n",
       "\n",
       "                                        Prithviraj Lakkakula  \\\n",
       "Expertise                        Food and Resource Economics   \n",
       "Biography  He is an Econ professor at NDSU. He teaches Mi...   \n",
       "E-mail                         prithviraj.lakkakula@ndsu.edu   \n",
       "\n",
       "                                                    Siew Lim  \\\n",
       "Expertise                                          Economics   \n",
       "Biography  She is an associate Econ professor at NDSU. Sh...   \n",
       "E-mail                                     siew.lim@ndsu.edu   \n",
       "\n",
       "                                            Zachary Machunda  \\\n",
       "Expertise                                 Economic Geography   \n",
       "Biography  He is an Econ professor at NDSU. He has been h...   \n",
       "E-mail                             zachary.machunda@ndsu.edu   \n",
       "\n",
       "                                               Raymond March  \\\n",
       "Expertise                 Agricultural and Applied Economics   \n",
       "Biography  He is an assistant Econ professor at NDSU. He ...   \n",
       "E-mail                              Raymond.J.March@ndsu.edu   \n",
       "\n",
       "                                            Dragan Miljkovic  \\\n",
       "Expertise                             Agricultural Economics   \n",
       "Biography  He is an agricultural economics professor at N...   \n",
       "E-mail                             dragan.miljkovic@ndsu.edu   \n",
       "\n",
       "                                              Frayne Olson  \\\n",
       "Expertise                           Agricultural Economics   \n",
       "Biography  He teaches business management classes at NDSU.   \n",
       "E-mail                               Frayne.Olson@ndsu.edu   \n",
       "\n",
       "                                                Bryon Parman  \n",
       "Expertise                               Agricultural Finance  \n",
       "Biography  He is an assistant professor at NDSU. His offi...  \n",
       "E-mail                                 bryon.parman@ndsu.edu  "
      ]
     },
     "execution_count": 14,
     "metadata": {},
     "output_type": "execute_result"
    }
   ],
   "source": [
    "df = pd.DataFrame(dct2)\n",
    "df"
   ]
  },
  {
   "cell_type": "code",
   "execution_count": null,
   "metadata": {},
   "outputs": [],
   "source": []
  }
 ],
 "metadata": {
  "kernelspec": {
   "display_name": "Python 3",
   "language": "python",
   "name": "python3"
  },
  "language_info": {
   "codemirror_mode": {
    "name": "ipython",
    "version": 3
   },
   "file_extension": ".py",
   "mimetype": "text/x-python",
   "name": "python",
   "nbconvert_exporter": "python",
   "pygments_lexer": "ipython3",
   "version": "3.8.3"
  }
 },
 "nbformat": 4,
 "nbformat_minor": 4
}
